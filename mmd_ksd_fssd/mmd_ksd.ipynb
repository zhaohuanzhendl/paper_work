{
 "cells": [
  {
   "cell_type": "markdown",
   "metadata": {},
   "source": [
    "A notebook to test and demonstrate the `MMD test` of Gretton et al., 2012 used as a goodness-of-fit test. Require the ability to sample from the density `p`."
   ]
  },
  {
   "cell_type": "code",
   "execution_count": 106,
   "metadata": {},
   "outputs": [
    {
     "name": "stdout",
     "output_type": "stream",
     "text": [
      "The autoreload extension is already loaded. To reload it, use:\n",
      "  %reload_ext autoreload\n"
     ]
    }
   ],
   "source": [
    "%load_ext autoreload\n",
    "%autoreload 2\n",
    "%matplotlib inline\n",
    "#%config InlineBackend.figure_format = 'svg'\n",
    "#%config InlineBackend.figure_format = 'pdf'\n",
    "\n",
    "import freqopttest.tst as tst\n",
    "import kgof\n",
    "import kgof.data as data\n",
    "import kgof.density as density\n",
    "import kgof.goftest as gof\n",
    "import kgof.mmd as mgof\n",
    "import kgof.kernel as ker\n",
    "import kgof.util as util\n",
    "import matplotlib\n",
    "import matplotlib.pyplot as plt\n",
    "import numpy as np\n",
    "import scipy.stats as stats"
   ]
  },
  {
   "cell_type": "code",
   "execution_count": 107,
   "metadata": {},
   "outputs": [],
   "source": [
    "seed = 13\n",
    "d = 2\n",
    "alpha = 0.05\n",
    "\n",
    "mean = np.zeros(d)\n",
    "variance = 1"
   ]
  },
  {
   "cell_type": "code",
   "execution_count": 108,
   "metadata": {},
   "outputs": [],
   "source": [
    "p = density.IsotropicNormal(mean, variance)\n",
    "q_mean = mean.copy()\n",
    "q_variance = variance\n",
    "ds = data.DSIsotropicNormal(q_mean+0.2, q_variance)\n"
   ]
  },
  {
   "cell_type": "code",
   "execution_count": 109,
   "metadata": {},
   "outputs": [],
   "source": [
    "def gen_pvalue_func():\n",
    "    nlist = [100,120,140,160, 180]\n",
    "    p_value_mmd = []\n",
    "    p_value_ksd = []\n",
    "    for n in nlist:\n",
    "        dat = ds.sample(n, seed=seed)\n",
    "        X = dat.data()\n",
    "        sig2 = util.meddistance(X, subsample=1000)**2\n",
    "        k = ker.KGauss(sig2)\n",
    "        \n",
    "        bootstrapper = gof.bootstrapper_rademacher \n",
    "        kstein = gof.KernelSteinTest(p, k, bootstrapper=bootstrapper, alpha=alpha, n_simulate=n, seed=seed+2)\n",
    "        kstein_result = kstein.perform_test(dat, return_simulated_stats=True,  return_ustat_gram=True) \n",
    "        p_value_ksd.append(kstein_result['pvalue'])\n",
    "        \n",
    "        mmd_test = mgof.QuadMMDGof(p, k, n_permute=n, alpha=alpha, seed=seed+2)\n",
    "        mmd_result = mmd_test.perform_test(dat)\n",
    "        p_value_mmd.append(mmd_result['pvalue'])\n",
    "        \n",
    "    return p_value_mmd, p_value_ksd"
   ]
  },
  {
   "cell_type": "code",
   "execution_count": 110,
   "metadata": {},
   "outputs": [
    {
     "name": "stdout",
     "output_type": "stream",
     "text": [
      "[0.91, 0.925, 0.7785714285714286, 0.46875, 0.2]\n",
      "[0.08, 0.25, 0.1357142857142857, 0.03125, 0.0]\n"
     ]
    },
    {
     "data": {
      "image/png": "[encoded data removed]",
      "text/plain": [
       "<Figure size 432x288 with 1 Axes>"
      ]
     },
     "metadata": {
      "needs_background": "light"
     },
     "output_type": "display_data"
    }
   ],
   "source": [
    "fig, ax = plt.subplots() # 创建图实例 \n",
    "nsampe_x = np.array([100, 120,140,160,180]) \n",
    "#p_value_mmd = np.array([0.91, 0.93, 0.77, 0.48, 0.22])\n",
    "#p_value_ksd = np.array([0.08, 0.21, 0.13, 0.05, 0.0]) \n",
    "(p_value_mmd, p_value_ksd) = gen_pvalue_func()\n",
    "print(p_value_mmd)\n",
    "print(p_value_ksd)\n",
    "ax.plot(nsampe_x, p_value_mmd, label='mmd', color='darkred', linestyle='-', linewidth=2, marker='D', markeredgecolor='darkgreen', markersize='4', markeredgewidth=2)\n",
    "ax.plot(nsampe_x, p_value_ksd, label='ksd', color='navy', linestyle='-', linewidth=2, marker='o', markeredgecolor='darkgreen', markersize='4', markeredgewidth=2) \n",
    "\n",
    "ax.set_xlabel('number of samples') #设置x轴名称 x label \n",
    "ax.set_ylabel('p-value') #设置y轴名称 y label \n",
    "ax.set_title('mmd vs ksd') #设置图名为Simple Plot \n",
    "#ax.set_xticks(np.arange(100, 180, 20), fontsize=tick_font)  \n",
    "#ax.set_yticks(np.arange(0, 1, 0.1), fontsize=tick_font) \n",
    "ax.legend() #自动检测要在图例中显示的元素，并且显示  \n",
    "ax.grid(True)\n",
    "plt.show() #图形可视 "
   ]
  }
 ],
 "metadata": {
  "kernelspec": {
   "display_name": "Python 2",
   "language": "python",
   "name": "python2"
  },
  "language_info": {
   "codemirror_mode": {
    "name": "ipython",
    "version": 2
   },
   "file_extension": ".py",
   "mimetype": "text/x-python",
   "name": "python",
   "nbconvert_exporter": "python",
   "pygments_lexer": "ipython2",
   "version": "2.7.16"
  }
 },
 "nbformat": 4,
 "nbformat_minor": 1
}
